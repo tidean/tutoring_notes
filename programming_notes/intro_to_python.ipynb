{
 "cells": [
  {
   "cell_type": "markdown",
   "id": "c4007ec5",
   "metadata": {},
   "source": [
    "# Intro to Python"
   ]
  },
  {
   "cell_type": "code",
   "execution_count": 1,
   "id": "b24c3833",
   "metadata": {},
   "outputs": [
    {
     "name": "stdout",
     "output_type": "stream",
     "text": [
      "hello world\n"
     ]
    }
   ],
   "source": [
    "print(\"hello world\") # This prints/displays: hello world"
   ]
  },
  {
   "cell_type": "code",
   "execution_count": 2,
   "id": "a99a9654",
   "metadata": {},
   "outputs": [],
   "source": [
    "# Based on the above, write a line of code that prints/displays: I love chicken\n",
    "# Answer:"
   ]
  },
  {
   "cell_type": "markdown",
   "id": "eb786f13",
   "metadata": {},
   "source": [
    "# Numbers and Variables"
   ]
  },
  {
   "cell_type": "markdown",
   "id": "c556f6e8",
   "metadata": {},
   "source": [
    "## Numbers\n",
    "\n",
    "##### There are 2 types of numbers: \"Integers\" and \"Floating Point\" numbers\n",
    "\n",
    "1 is an integer (int)\n",
    "\n",
    "1.0 is a floating point number (float)"
   ]
  },
  {
   "cell_type": "code",
   "execution_count": 3,
   "id": "52a7a1d6",
   "metadata": {},
   "outputs": [],
   "source": [
    "# For each of the following numbers, write \"int\" or \"float\" next to them\n",
    "\n",
    "# 2 ->\n",
    "# 3.3333333333333 ->\n",
    "# pi ->"
   ]
  },
  {
   "cell_type": "markdown",
   "id": "81a7bf91",
   "metadata": {},
   "source": [
    "## Arithmetic Operations"
   ]
  },
  {
   "cell_type": "code",
   "execution_count": 4,
   "id": "2ab39cb2",
   "metadata": {},
   "outputs": [],
   "source": [
    "# Basics\n",
    "# 1 + 1 = 2 (Addition)\n",
    "# 2 - 1 = 1 (Subtraction)\n",
    "# 3*5 = 15 (Multiplication)\n",
    "# 10/2 = 5 (Division)\n",
    "\n",
    "# Advanced\n",
    "# 2**4 = 16 (Exponent, example 1) -> In other words 2*2*2*2\n",
    "# 5**3 = 125 (Exponent, example 2) -> In other words 5*5*5\n",
    "# 4**0.5 = 2 (Square root)"
   ]
  },
  {
   "cell_type": "code",
   "execution_count": 5,
   "id": "1abddfaa",
   "metadata": {},
   "outputs": [],
   "source": [
    "# Evaluate\n",
    "\n",
    "# 2 + 2 = \n",
    "\n",
    "# 1235 - 65 = \n",
    "\n",
    "# 12*9 = \n",
    "\n",
    "# 52/2 = \n",
    "\n",
    "# 3**2 (In other words 3*3) ="
   ]
  },
  {
   "cell_type": "markdown",
   "id": "333fc355",
   "metadata": {},
   "source": [
    "## Variables\n",
    "\n",
    "A variable stores the value of an item."
   ]
  },
  {
   "cell_type": "code",
   "execution_count": 6,
   "id": "16e67af3",
   "metadata": {},
   "outputs": [
    {
     "name": "stdout",
     "output_type": "stream",
     "text": [
      "10\n"
     ]
    }
   ],
   "source": [
    "# For example:\n",
    "a = 10\n",
    "print(a)"
   ]
  },
  {
   "cell_type": "code",
   "execution_count": 7,
   "id": "bd00811b",
   "metadata": {},
   "outputs": [
    {
     "name": "stdout",
     "output_type": "stream",
     "text": [
      "I am human\n"
     ]
    }
   ],
   "source": [
    "x = \"I am human\"\n",
    "print(x)"
   ]
  },
  {
   "cell_type": "code",
   "execution_count": 8,
   "id": "707a648f",
   "metadata": {},
   "outputs": [],
   "source": [
    "# What will be the result of the following print statement\n",
    "\n",
    "# b = 5\n",
    "# print(b)\n",
    "# Answer: \n",
    "\n",
    "# c = b + b + b\n",
    "# print(c)\n",
    "# Answer:\n",
    "\n",
    "# y = \"I am not a dog\"\n",
    "# print(y)\n",
    "# Answer:"
   ]
  },
  {
   "cell_type": "markdown",
   "id": "426f34ba",
   "metadata": {},
   "source": [
    "# String\n",
    "\n",
    "##### A string is a sequence of characters inside quotes"
   ]
  },
  {
   "cell_type": "code",
   "execution_count": 9,
   "id": "0ea4a139",
   "metadata": {},
   "outputs": [],
   "source": [
    "# For example:\n",
    "\n",
    "# \"This is a string\"\n",
    "# \"I am human\"\n",
    "# s = \"A cat\" -> This is a variable, s, storing a string"
   ]
  },
  {
   "cell_type": "markdown",
   "id": "f3dff54a",
   "metadata": {},
   "source": [
    "## String Methods\n",
    "\n",
    "String methods are functions that manipulate the string"
   ]
  },
  {
   "cell_type": "code",
   "execution_count": 10,
   "id": "c985e419",
   "metadata": {},
   "outputs": [
    {
     "data": {
      "text/plain": [
       "'HELLO WORLD'"
      ]
     },
     "execution_count": 10,
     "metadata": {},
     "output_type": "execute_result"
    }
   ],
   "source": [
    "## For example:\n",
    "\n",
    "# Upper Case\n",
    "s1 = \"hello world\"\n",
    "s1.upper()"
   ]
  },
  {
   "cell_type": "code",
   "execution_count": 11,
   "id": "303c7dc3",
   "metadata": {},
   "outputs": [
    {
     "data": {
      "text/plain": [
       "'hello world'"
      ]
     },
     "execution_count": 11,
     "metadata": {},
     "output_type": "execute_result"
    }
   ],
   "source": [
    "# Lower Case\n",
    "s2 = \"HellO WORLd\"\n",
    "s2.lower()"
   ]
  },
  {
   "cell_type": "code",
   "execution_count": 12,
   "id": "8e0cd31c",
   "metadata": {},
   "outputs": [
    {
     "data": {
      "text/plain": [
       "'Hello world'"
      ]
     },
     "execution_count": 12,
     "metadata": {},
     "output_type": "execute_result"
    }
   ],
   "source": [
    "# Capitalize\n",
    "s3 = \"hello world\"\n",
    "s3.capitalize()"
   ]
  },
  {
   "cell_type": "code",
   "execution_count": 13,
   "id": "455beedb",
   "metadata": {},
   "outputs": [],
   "source": [
    "# Evaluate\n",
    "# s1 = \"hello kitty\"\n",
    "# s1.upper()\n",
    "\n",
    "# Answer:"
   ]
  },
  {
   "cell_type": "code",
   "execution_count": 14,
   "id": "7ad4ef77",
   "metadata": {},
   "outputs": [],
   "source": [
    "# Evaluate\n",
    "# s1 = \"hellO KittY\"\n",
    "# s1.lower()\n",
    "\n",
    "# Answer:"
   ]
  },
  {
   "cell_type": "code",
   "execution_count": 15,
   "id": "f1fdda1c",
   "metadata": {},
   "outputs": [],
   "source": [
    "# Evaluate\n",
    "# s1 = \"hello kitty\"\n",
    "# s1.capitalize()\n",
    "\n",
    "# Answer:"
   ]
  },
  {
   "cell_type": "markdown",
   "id": "11816c75",
   "metadata": {},
   "source": [
    "## String Indexing\n",
    "\n",
    "String indexing means accessing/grabbing an element inside the string.\n",
    "\n",
    "In python indexing starts at 0. This means, the first element has ALWAYS an index of 0"
   ]
  },
  {
   "cell_type": "code",
   "execution_count": 16,
   "id": "0ee78947",
   "metadata": {},
   "outputs": [
    {
     "data": {
      "text/plain": [
       "'h'"
      ]
     },
     "execution_count": 16,
     "metadata": {},
     "output_type": "execute_result"
    }
   ],
   "source": [
    "# How to do it? We use the [] syntax. For example\n",
    "\n",
    "s = \"hello world\"\n",
    "s[0]  # Grabbing letter \"h\", which is the first character of the string"
   ]
  },
  {
   "cell_type": "code",
   "execution_count": 17,
   "id": "caf021be",
   "metadata": {},
   "outputs": [
    {
     "data": {
      "text/plain": [
       "'e'"
      ]
     },
     "execution_count": 17,
     "metadata": {},
     "output_type": "execute_result"
    }
   ],
   "source": [
    "s[1] # Grabbing letter \"e\", which is the second character of the string"
   ]
  },
  {
   "cell_type": "code",
   "execution_count": 18,
   "id": "1c1bc7cd",
   "metadata": {},
   "outputs": [
    {
     "data": {
      "text/plain": [
       "' '"
      ]
     },
     "execution_count": 18,
     "metadata": {},
     "output_type": "execute_result"
    }
   ],
   "source": [
    "s[5] # A blank space is also a character. Grabbing letter \" \", which is the sixth character of the string."
   ]
  },
  {
   "cell_type": "code",
   "execution_count": 19,
   "id": "b936b170",
   "metadata": {},
   "outputs": [
    {
     "data": {
      "text/plain": [
       "'o'"
      ]
     },
     "execution_count": 19,
     "metadata": {},
     "output_type": "execute_result"
    }
   ],
   "source": [
    "s[7] # Grabbing letter \" \", which is the eigth character of the string."
   ]
  },
  {
   "cell_type": "code",
   "execution_count": 20,
   "id": "20da44c5",
   "metadata": {},
   "outputs": [],
   "source": [
    "# Evaluate\n",
    "\n",
    "# s = \"pikachu is yellow\"\n",
    "\n",
    "# s[0] = \n",
    "\n",
    "# s[1] = \n",
    "\n",
    "# s[9] = "
   ]
  },
  {
   "cell_type": "code",
   "execution_count": 21,
   "id": "cb0cd5eb",
   "metadata": {},
   "outputs": [],
   "source": [
    "# Bonus question\n",
    "# What if I want to grab the letter \"p\" in \"pikachu\" and uppercase it so that \"p\" becomes \"P\" ? Write the line of code that does it.\n",
    "# Hint: Use string indexing and then apply a string method on it.\n",
    "\n",
    "# Answer:"
   ]
  }
 ],
 "metadata": {
  "kernelspec": {
   "display_name": "base_latest",
   "language": "python",
   "name": "python3"
  },
  "language_info": {
   "codemirror_mode": {
    "name": "ipython",
    "version": 3
   },
   "file_extension": ".py",
   "mimetype": "text/x-python",
   "name": "python",
   "nbconvert_exporter": "python",
   "pygments_lexer": "ipython3",
   "version": "3.12.4"
  }
 },
 "nbformat": 4,
 "nbformat_minor": 5
}
